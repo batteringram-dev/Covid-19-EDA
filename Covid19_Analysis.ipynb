{
  "nbformat": 4,
  "nbformat_minor": 0,
  "metadata": {
    "colab": {
      "name": "Covid19-Analysis",
      "provenance": [],
      "toc_visible": true,
      "authorship_tag": "ABX9TyPWYVKnHFuUU65EzEglncq+"
    },
    "kernelspec": {
      "name": "python3",
      "display_name": "Python 3"
    },
    "language_info": {
      "name": "python"
    }
  },
  "cells": [
    {
      "cell_type": "code",
      "execution_count": 58,
      "metadata": {
        "colab": {
          "base_uri": "https://localhost:8080/"
        },
        "id": "XwRxMwSP1YlA",
        "outputId": "340c2a8a-fd90-422a-c7ed-b0a6d6a67e2f"
      },
      "outputs": [
        {
          "output_type": "stream",
          "name": "stdout",
          "text": [
            "Looking in indexes: https://pypi.org/simple, https://us-python.pkg.dev/colab-wheels/public/simple/\n",
            "Requirement already satisfied: pyspark in /usr/local/lib/python3.7/dist-packages (3.3.0)\n",
            "Requirement already satisfied: py4j in /usr/local/lib/python3.7/dist-packages (0.10.9.5)\n"
          ]
        }
      ],
      "source": [
        "# installing the required libraries\n",
        "!pip install pyspark py4j"
      ]
    },
    {
      "cell_type": "code",
      "source": [
        "# importing the libraries\n",
        "from pyspark.sql import SparkSession\n",
        "import pyspark.sql.functions as F"
      ],
      "metadata": {
        "id": "m6qOVHbD1uKe"
      },
      "execution_count": 2,
      "outputs": []
    },
    {
      "cell_type": "code",
      "source": [
        "spark = SparkSession.builder.appName(\"covid19analysis\").getOrCreate()\n",
        "spark"
      ],
      "metadata": {
        "colab": {
          "base_uri": "https://localhost:8080/",
          "height": 219
        },
        "id": "4mDK5uH61yGi",
        "outputId": "4b694f1c-58c1-4d69-8445-b6373877858f"
      },
      "execution_count": 3,
      "outputs": [
        {
          "output_type": "execute_result",
          "data": {
            "text/plain": [
              "<pyspark.sql.session.SparkSession at 0x7fe9b0bd4f90>"
            ],
            "text/html": [
              "\n",
              "            <div>\n",
              "                <p><b>SparkSession - in-memory</b></p>\n",
              "                \n",
              "        <div>\n",
              "            <p><b>SparkContext</b></p>\n",
              "\n",
              "            <p><a href=\"http://39f225ec26b6:4040\">Spark UI</a></p>\n",
              "\n",
              "            <dl>\n",
              "              <dt>Version</dt>\n",
              "                <dd><code>v3.3.0</code></dd>\n",
              "              <dt>Master</dt>\n",
              "                <dd><code>local[*]</code></dd>\n",
              "              <dt>AppName</dt>\n",
              "                <dd><code>covid19analysis</code></dd>\n",
              "            </dl>\n",
              "        </div>\n",
              "        \n",
              "            </div>\n",
              "        "
            ]
          },
          "metadata": {},
          "execution_count": 3
        }
      ]
    },
    {
      "cell_type": "code",
      "source": [
        "from pyspark.sql import SQLContext\n",
        "\n",
        "sqlContext = SQLContext(spark)\n",
        "sqlContext"
      ],
      "metadata": {
        "colab": {
          "base_uri": "https://localhost:8080/"
        },
        "id": "AtKXuusS7mz6",
        "outputId": "8a7b444f-7e45-437a-c094-0c9355ab6ed6"
      },
      "execution_count": 4,
      "outputs": [
        {
          "output_type": "stream",
          "name": "stderr",
          "text": [
            "/usr/local/lib/python3.7/dist-packages/pyspark/sql/context.py:114: FutureWarning: Deprecated in 3.0.0. Use SparkSession.builder.getOrCreate() instead.\n",
            "  FutureWarning,\n"
          ]
        },
        {
          "output_type": "execute_result",
          "data": {
            "text/plain": [
              "<pyspark.sql.context.SQLContext at 0x7fe9b0bf6e50>"
            ]
          },
          "metadata": {},
          "execution_count": 4
        }
      ]
    },
    {
      "cell_type": "code",
      "source": [
        "# df = spark.read.csv('us-counties.csv', header=True)\n",
        "# df.show(5)"
      ],
      "metadata": {
        "colab": {
          "base_uri": "https://localhost:8080/"
        },
        "id": "AIoLgT452GTN",
        "outputId": "eda45570-aae7-48fe-bfb9-c01adcb67751"
      },
      "execution_count": 5,
      "outputs": [
        {
          "output_type": "stream",
          "name": "stdout",
          "text": [
            "+----------+---------+----------+-----+-----+------+\n",
            "|      date|   county|     state| fips|cases|deaths|\n",
            "+----------+---------+----------+-----+-----+------+\n",
            "|2020-01-21|Snohomish|Washington|53061|    1|     0|\n",
            "|2020-01-22|Snohomish|Washington|53061|    1|     0|\n",
            "|2020-01-23|Snohomish|Washington|53061|    1|     0|\n",
            "|2020-01-24|     Cook|  Illinois|17031|    1|     0|\n",
            "|2020-01-24|Snohomish|Washington|53061|    1|     0|\n",
            "+----------+---------+----------+-----+-----+------+\n",
            "only showing top 5 rows\n",
            "\n"
          ]
        }
      ]
    },
    {
      "cell_type": "code",
      "source": [
        "# filtering out the latest date in the table\n",
        "latest_date = df.agg(F.max('date').alias('max_date'))\n",
        "latest_date.show()"
      ],
      "metadata": {
        "colab": {
          "base_uri": "https://localhost:8080/"
        },
        "id": "bg3403P-4wvM",
        "outputId": "de56c28f-58d5-4ca5-c76c-6f8ef567f03a"
      },
      "execution_count": 6,
      "outputs": [
        {
          "output_type": "stream",
          "name": "stdout",
          "text": [
            "+----------+\n",
            "|  max_date|\n",
            "+----------+\n",
            "|2020-06-23|\n",
            "+----------+\n",
            "\n"
          ]
        }
      ]
    },
    {
      "cell_type": "code",
      "source": [
        "# saving it as a temporary table\n",
        "df.registerTempTable(\"covid_data\")"
      ],
      "metadata": {
        "colab": {
          "base_uri": "https://localhost:8080/"
        },
        "id": "lO-hmdmT51ho",
        "outputId": "57138de3-31e5-490f-f809-0b39524a2169"
      },
      "execution_count": 7,
      "outputs": [
        {
          "output_type": "stream",
          "name": "stderr",
          "text": [
            "/usr/local/lib/python3.7/dist-packages/pyspark/sql/dataframe.py:229: FutureWarning: Deprecated in 2.0, use createOrReplaceTempView instead.\n",
            "  warnings.warn(\"Deprecated in 2.0, use createOrReplaceTempView instead.\", FutureWarning)\n"
          ]
        }
      ]
    },
    {
      "cell_type": "code",
      "source": [
        "# checking how many records the df has\n",
        "df.count()"
      ],
      "metadata": {
        "colab": {
          "base_uri": "https://localhost:8080/"
        },
        "id": "R2DOirpEEi1a",
        "outputId": "2ce0580d-9fc8-4f8d-cef3-e98449bb3b57"
      },
      "execution_count": 8,
      "outputs": [
        {
          "output_type": "execute_result",
          "data": {
            "text/plain": [
              "265259"
            ]
          },
          "metadata": {},
          "execution_count": 8
        }
      ]
    },
    {
      "cell_type": "code",
      "source": [
        "# querying using sql \n",
        "latest_date_sql = sqlContext.sql(\n",
        "    \"\"\" SELECT max(date) as max_date FROM covid_data \"\"\"\n",
        ")\n",
        "latest_date_sql.show()"
      ],
      "metadata": {
        "colab": {
          "base_uri": "https://localhost:8080/"
        },
        "id": "NtWv5DAGBfFU",
        "outputId": "8f223ef7-5a08-4ff0-9ebf-45e9c6bb9516"
      },
      "execution_count": 9,
      "outputs": [
        {
          "output_type": "stream",
          "name": "stdout",
          "text": [
            "+----------+\n",
            "|  max_date|\n",
            "+----------+\n",
            "|2020-06-23|\n",
            "+----------+\n",
            "\n"
          ]
        }
      ]
    },
    {
      "cell_type": "code",
      "source": [
        "type(latest_date)"
      ],
      "metadata": {
        "colab": {
          "base_uri": "https://localhost:8080/"
        },
        "id": "WXxQHo7_CSgW",
        "outputId": "719d8c72-05a9-435e-8e55-dd0a7391b06a"
      },
      "execution_count": 10,
      "outputs": [
        {
          "output_type": "execute_result",
          "data": {
            "text/plain": [
              "pyspark.sql.dataframe.DataFrame"
            ]
          },
          "metadata": {},
          "execution_count": 10
        }
      ]
    },
    {
      "cell_type": "code",
      "source": [
        "type(latest_date_sql)"
      ],
      "metadata": {
        "colab": {
          "base_uri": "https://localhost:8080/"
        },
        "id": "7hy1zGaECVbL",
        "outputId": "3520eb6f-9b1e-487a-f8f7-b8535a504cab"
      },
      "execution_count": 11,
      "outputs": [
        {
          "output_type": "execute_result",
          "data": {
            "text/plain": [
              "pyspark.sql.dataframe.DataFrame"
            ]
          },
          "metadata": {},
          "execution_count": 11
        }
      ]
    },
    {
      "cell_type": "code",
      "source": [
        "# what collect does is it converts the data into a python list. Be aware that collecting large data might crash the api \n",
        "latest_date = latest_date.collect()\n",
        "latest_date"
      ],
      "metadata": {
        "colab": {
          "base_uri": "https://localhost:8080/"
        },
        "id": "LqD5OFVPCoD5",
        "outputId": "979c2c92-21fc-4de1-b4e1-c28dd680b9d4"
      },
      "execution_count": 12,
      "outputs": [
        {
          "output_type": "execute_result",
          "data": {
            "text/plain": [
              "[Row(max_date='2020-06-23')]"
            ]
          },
          "metadata": {},
          "execution_count": 12
        }
      ]
    },
    {
      "cell_type": "code",
      "source": [
        "latest_date = latest_date[0]['max_date'] \n",
        "latest_date"
      ],
      "metadata": {
        "colab": {
          "base_uri": "https://localhost:8080/",
          "height": 35
        },
        "id": "5S3qzeFewfpz",
        "outputId": "088eede0-18c9-4e0e-e3f9-f70367e7b342"
      },
      "execution_count": 13,
      "outputs": [
        {
          "output_type": "execute_result",
          "data": {
            "text/plain": [
              "'2020-06-23'"
            ],
            "application/vnd.google.colaboratory.intrinsic+json": {
              "type": "string"
            }
          },
          "metadata": {},
          "execution_count": 13
        }
      ]
    },
    {
      "cell_type": "code",
      "source": [
        "# filtering out the top 2 latest dates\n",
        "df_filtered = df.where(\n",
        "    \"date = '{}'\".format(latest_date)\n",
        ")\n",
        "\n",
        "df_filtered.show(2)"
      ],
      "metadata": {
        "colab": {
          "base_uri": "https://localhost:8080/"
        },
        "id": "fmAj8aa0w9Mt",
        "outputId": "fcf1b769-8174-4cd3-b75d-5a4feb5287d1"
      },
      "execution_count": 14,
      "outputs": [
        {
          "output_type": "stream",
          "name": "stdout",
          "text": [
            "+----------+-------+-------+-----+-----+------+\n",
            "|      date| county|  state| fips|cases|deaths|\n",
            "+----------+-------+-------+-----+-----+------+\n",
            "|2020-06-23|Autauga|Alabama|01001|  453|     9|\n",
            "|2020-06-23|Baldwin|Alabama|01003|  450|     9|\n",
            "+----------+-------+-------+-----+-----+------+\n",
            "only showing top 2 rows\n",
            "\n"
          ]
        }
      ]
    },
    {
      "cell_type": "code",
      "source": [
        "df_filtered.count()"
      ],
      "metadata": {
        "colab": {
          "base_uri": "https://localhost:8080/"
        },
        "id": "43klcniYxR9E",
        "outputId": "578550a3-1688-4581-b9cb-3c886448a698"
      },
      "execution_count": 15,
      "outputs": [
        {
          "output_type": "execute_result",
          "data": {
            "text/plain": [
              "171"
            ]
          },
          "metadata": {},
          "execution_count": 15
        }
      ]
    },
    {
      "cell_type": "code",
      "source": [
        "latest_date_sql = sqlContext.sql(\n",
        "    \"\"\" SELECT * FROM covid_data where date = '{}'\"\"\".format(latest_date)\n",
        ")\n",
        "\n",
        "latest_date_sql.show(10)"
      ],
      "metadata": {
        "colab": {
          "base_uri": "https://localhost:8080/"
        },
        "id": "zvuIcyZkyq_e",
        "outputId": "43d26220-0cde-438c-925f-5b48fb848625"
      },
      "execution_count": 16,
      "outputs": [
        {
          "output_type": "stream",
          "name": "stdout",
          "text": [
            "+----------+--------+-------+-----+-----+------+\n",
            "|      date|  county|  state| fips|cases|deaths|\n",
            "+----------+--------+-------+-----+-----+------+\n",
            "|2020-06-23| Autauga|Alabama|01001|  453|     9|\n",
            "|2020-06-23| Baldwin|Alabama|01003|  450|     9|\n",
            "|2020-06-23| Barbour|Alabama|01005|  280|     1|\n",
            "|2020-06-23|    Bibb|Alabama|01007|  135|     1|\n",
            "|2020-06-23|  Blount|Alabama|01009|  159|     1|\n",
            "|2020-06-23| Bullock|Alabama|01011|  329|    10|\n",
            "|2020-06-23|  Butler|Alabama|01013|  581|    27|\n",
            "|2020-06-23| Calhoun|Alabama|01015|  216|     5|\n",
            "|2020-06-23|Chambers|Alabama|01017|  534|    27|\n",
            "|2020-06-23|Cherokee|Alabama|01019|   58|     7|\n",
            "+----------+--------+-------+-----+-----+------+\n",
            "only showing top 10 rows\n",
            "\n"
          ]
        }
      ]
    },
    {
      "cell_type": "code",
      "source": [
        "# using group and aggregate to get the overall statistics\n",
        "overall_stats = df_filtered.agg(\n",
        "    F.sum('cases').alias('total_cases'),\n",
        "    F.sum('deaths').alias('total_deaths'),\n",
        "    F.countDistinct(\"county\").alias(\"number_of_counties\"),\n",
        "    F.countDistinct(\"state\").alias(\"number_of_states\"),\n",
        ")\n",
        "\n",
        "overall_stats.show(1, False)"
      ],
      "metadata": {
        "colab": {
          "base_uri": "https://localhost:8080/"
        },
        "id": "RZ-rLvLu5EIP",
        "outputId": "a9d9025c-c792-4ef1-afbb-88cddbab469f"
      },
      "execution_count": 17,
      "outputs": [
        {
          "output_type": "stream",
          "name": "stdout",
          "text": [
            "+-----------+------------+------------------+----------------+\n",
            "|total_cases|total_deaths|number_of_counties|number_of_states|\n",
            "+-----------+------------+------------------+----------------+\n",
            "|102116.0   |2466.0      |155               |4               |\n",
            "+-----------+------------+------------------+----------------+\n",
            "\n"
          ]
        }
      ]
    },
    {
      "cell_type": "code",
      "source": [
        "# ordering the county names in ascending order\n",
        "df_filtered.orderBy(\"county\").show(10, False)"
      ],
      "metadata": {
        "colab": {
          "base_uri": "https://localhost:8080/"
        },
        "id": "gg2u01AV7ugz",
        "outputId": "1ccf8694-bcf4-4243-a697-5f7b328af965"
      },
      "execution_count": 18,
      "outputs": [
        {
          "output_type": "stream",
          "name": "stdout",
          "text": [
            "+----------+--------------------------+--------+-----+-----+------+\n",
            "|date      |county                    |state   |fips |cases|deaths|\n",
            "+----------+--------------------------+--------+-----+-----+------+\n",
            "|2020-06-23|Aleutians East Borough    |Alaska  |02013|2    |0     |\n",
            "|2020-06-23|Aleutians West Census Area|Alaska  |02016|4    |0     |\n",
            "|2020-06-23|Anchorage                 |Alaska  |02020|401  |6     |\n",
            "|2020-06-23|Apache                    |Arizona |04001|2165 |67    |\n",
            "|2020-06-23|Arkansas                  |Arkansas|05001|21   |0     |\n",
            "|2020-06-23|Ashley                    |Arkansas|05003|57   |1     |\n",
            "|2020-06-23|Autauga                   |Alabama |01001|453  |9     |\n",
            "|2020-06-23|Baldwin                   |Alabama |01003|450  |9     |\n",
            "|2020-06-23|Barbour                   |Alabama |01005|280  |1     |\n",
            "|2020-06-23|Baxter                    |Arkansas|05005|15   |0     |\n",
            "+----------+--------------------------+--------+-----+-----+------+\n",
            "only showing top 10 rows\n",
            "\n"
          ]
        }
      ]
    },
    {
      "cell_type": "code",
      "source": [
        "# registering the dataframe as a table\n",
        "df_filtered.registerTempTable(\"covid19_20210501\")"
      ],
      "metadata": {
        "colab": {
          "base_uri": "https://localhost:8080/"
        },
        "id": "ahviTBRUFTfg",
        "outputId": "4ebb0d1f-1b27-4080-85c6-7f6ea0a51940"
      },
      "execution_count": 19,
      "outputs": [
        {
          "output_type": "stream",
          "name": "stderr",
          "text": [
            "/usr/local/lib/python3.7/dist-packages/pyspark/sql/dataframe.py:229: FutureWarning: Deprecated in 2.0, use createOrReplaceTempView instead.\n",
            "  warnings.warn(\"Deprecated in 2.0, use createOrReplaceTempView instead.\", FutureWarning)\n"
          ]
        }
      ]
    },
    {
      "cell_type": "code",
      "source": [
        "sqlContext.sql(\n",
        "    \"\"\"\n",
        "\n",
        "        SELECT\n",
        "            county,\n",
        "            SUM(cases) as number_of_cases,\n",
        "            SUM(deaths) as number_of_deaths,\n",
        "            COUNT(*) as number_of_records,\n",
        "            COUNT(DISTINCT county) as number_of_counties,\n",
        "            COUNT(DISTINCT state) as number_of_states\n",
        "        FROM\n",
        "            covid19_20210501\n",
        "        GROUP BY\n",
        "            county\n",
        "        ORDER BY\n",
        "            county\n",
        "    \"\"\" \n",
        ").show(10, False)"
      ],
      "metadata": {
        "colab": {
          "base_uri": "https://localhost:8080/"
        },
        "id": "XwNwGxfAGDE2",
        "outputId": "28896f21-183d-4cac-cf72-e834bdb7f6e8"
      },
      "execution_count": 20,
      "outputs": [
        {
          "output_type": "stream",
          "name": "stdout",
          "text": [
            "+--------------------------+---------------+----------------+-----------------+------------------+----------------+\n",
            "|county                    |number_of_cases|number_of_deaths|number_of_records|number_of_counties|number_of_states|\n",
            "+--------------------------+---------------+----------------+-----------------+------------------+----------------+\n",
            "|Aleutians East Borough    |2.0            |0.0             |1                |1                 |1               |\n",
            "|Aleutians West Census Area|4.0            |0.0             |1                |1                 |1               |\n",
            "|Anchorage                 |401.0          |6.0             |1                |1                 |1               |\n",
            "|Apache                    |2165.0         |67.0            |1                |1                 |1               |\n",
            "|Arkansas                  |21.0           |0.0             |1                |1                 |1               |\n",
            "|Ashley                    |57.0           |1.0             |1                |1                 |1               |\n",
            "|Autauga                   |453.0          |9.0             |1                |1                 |1               |\n",
            "|Baldwin                   |450.0          |9.0             |1                |1                 |1               |\n",
            "|Barbour                   |280.0          |1.0             |1                |1                 |1               |\n",
            "|Baxter                    |15.0           |0.0             |1                |1                 |1               |\n",
            "+--------------------------+---------------+----------------+-----------------+------------------+----------------+\n",
            "only showing top 10 rows\n",
            "\n"
          ]
        }
      ]
    },
    {
      "cell_type": "code",
      "source": [
        "county_summary = df_filtered.groupBy(\n",
        "    \"county\"\n",
        ").agg(\n",
        "    F.sum(\"cases\").alias(\"total_cases\"),\n",
        "    F.sum(\"deaths\").alias(\"total_deaths\"),\n",
        "    F.count(\"*\").alias(\"number_of_records\"),\n",
        "    F.countDistinct(\"state\").alias(\"number_of_states\")\n",
        ")\n",
        "\n",
        "county_summary.orderBy(\"county\").show(20, False)"
      ],
      "metadata": {
        "colab": {
          "base_uri": "https://localhost:8080/"
        },
        "id": "4FRqZn5ZCXMp",
        "outputId": "a62b9482-07bd-41a8-c09a-5dd720b3d29f"
      },
      "execution_count": 21,
      "outputs": [
        {
          "output_type": "stream",
          "name": "stdout",
          "text": [
            "+-----------------------------------+-----------+------------+-----------------+----------------+\n",
            "|county                             |total_cases|total_deaths|number_of_records|number_of_states|\n",
            "+-----------------------------------+-----------+------------+-----------------+----------------+\n",
            "|Aleutians East Borough             |2.0        |0.0         |1                |1               |\n",
            "|Aleutians West Census Area         |4.0        |0.0         |1                |1               |\n",
            "|Anchorage                          |401.0      |6.0         |1                |1               |\n",
            "|Apache                             |2165.0     |67.0        |1                |1               |\n",
            "|Arkansas                           |21.0       |0.0         |1                |1               |\n",
            "|Ashley                             |57.0       |1.0         |1                |1               |\n",
            "|Autauga                            |453.0      |9.0         |1                |1               |\n",
            "|Baldwin                            |450.0      |9.0         |1                |1               |\n",
            "|Barbour                            |280.0      |1.0         |1                |1               |\n",
            "|Baxter                             |15.0       |0.0         |1                |1               |\n",
            "|Benton                             |2128.0     |14.0        |1                |1               |\n",
            "|Bethel Census Area                 |8.0        |0.0         |1                |1               |\n",
            "|Bibb                               |135.0      |1.0         |1                |1               |\n",
            "|Blount                             |159.0      |1.0         |1                |1               |\n",
            "|Boone                              |14.0       |1.0         |1                |1               |\n",
            "|Bradley                            |38.0       |2.0         |1                |1               |\n",
            "|Bristol Bay plus Lake and Peninsula|16.0       |0.0         |1                |1               |\n",
            "|Bullock                            |329.0      |10.0        |1                |1               |\n",
            "|Butler                             |581.0      |27.0        |1                |1               |\n",
            "|Calhoun                            |216.0      |5.0         |1                |1               |\n",
            "+-----------------------------------+-----------+------------+-----------------+----------------+\n",
            "only showing top 20 rows\n",
            "\n"
          ]
        }
      ]
    },
    {
      "cell_type": "code",
      "source": [
        "filtered_county_rec = county_summary.where(\n",
        "    F.col(\"number_of_records\") != F.col(\"number_of_states\")\n",
        ")\n",
        "\n",
        "filtered_county_rec.count()"
      ],
      "metadata": {
        "colab": {
          "base_uri": "https://localhost:8080/"
        },
        "id": "iipd3KkxDo7R",
        "outputId": "6bed93d9-f54c-41a1-a6ac-a1cce27ed312"
      },
      "execution_count": 22,
      "outputs": [
        {
          "output_type": "execute_result",
          "data": {
            "text/plain": [
              "0"
            ]
          },
          "metadata": {},
          "execution_count": 22
        }
      ]
    },
    {
      "cell_type": "code",
      "source": [
        "# filtering data for county - Adair and Addison\n",
        "left_table = county_summary.where(\n",
        "    \"county in ('Adair', 'Addison')\"\n",
        ")\n",
        "\n",
        "left_table.show(3, False)"
      ],
      "metadata": {
        "colab": {
          "base_uri": "https://localhost:8080/"
        },
        "id": "eegZOSsA8i0x",
        "outputId": "a53ba947-f78c-41df-cbbd-37cf2a3c654f"
      },
      "execution_count": 23,
      "outputs": [
        {
          "output_type": "stream",
          "name": "stdout",
          "text": [
            "+------+-----------+------------+-----------------+----------------+\n",
            "|county|total_cases|total_deaths|number_of_records|number_of_states|\n",
            "+------+-----------+------------+-----------------+----------------+\n",
            "+------+-----------+------------+-----------------+----------------+\n",
            "\n"
          ]
        }
      ]
    },
    {
      "cell_type": "code",
      "source": [
        "# filtering data for county - Ada and Accomack\n",
        "right_table = county_summary.where(\n",
        "    \"county in ('Ada', 'Accomack')\"\n",
        ")\n",
        "\n",
        "right_table.show(3, False)"
      ],
      "metadata": {
        "colab": {
          "base_uri": "https://localhost:8080/"
        },
        "id": "fV8IE2fwAJ6_",
        "outputId": "5b2d9551-faa7-492c-9f89-3188fbe78bf0"
      },
      "execution_count": 24,
      "outputs": [
        {
          "output_type": "stream",
          "name": "stdout",
          "text": [
            "+------+-----------+------------+-----------------+----------------+\n",
            "|county|total_cases|total_deaths|number_of_records|number_of_states|\n",
            "+------+-----------+------------+-----------------+----------------+\n",
            "+------+-----------+------------+-----------------+----------------+\n",
            "\n"
          ]
        }
      ]
    },
    {
      "cell_type": "code",
      "source": [
        "# inner join\n",
        "inner_table = county_summary.join(\n",
        "    left_table,\n",
        "    on=[\"county\"],\n",
        "    how=\"inner\"\n",
        ")\n",
        "\n",
        "inner_table.show(100, False)"
      ],
      "metadata": {
        "colab": {
          "base_uri": "https://localhost:8080/"
        },
        "id": "yh7L7wGcsXs-",
        "outputId": "68334e3f-7d83-4703-ea0a-80647fbbc9fe"
      },
      "execution_count": 25,
      "outputs": [
        {
          "output_type": "stream",
          "name": "stdout",
          "text": [
            "+------+-----------+------------+-----------------+----------------+-----------+------------+-----------------+----------------+\n",
            "|county|total_cases|total_deaths|number_of_records|number_of_states|total_cases|total_deaths|number_of_records|number_of_states|\n",
            "+------+-----------+------------+-----------------+----------------+-----------+------------+-----------------+----------------+\n",
            "+------+-----------+------------+-----------------+----------------+-----------+------------+-----------------+----------------+\n",
            "\n"
          ]
        }
      ]
    },
    {
      "cell_type": "code",
      "source": [
        "# left join\n",
        "left_table_joined = left_table.join(\n",
        "    right_table,\n",
        "    on=[\"county\"],\n",
        "    how=\"left\"\n",
        ")\n",
        "\n",
        "left_table_joined.show(100, False)"
      ],
      "metadata": {
        "colab": {
          "base_uri": "https://localhost:8080/"
        },
        "id": "X0FVu6XSu5sA",
        "outputId": "48e2d868-28c8-409a-cf05-abc4ec887198"
      },
      "execution_count": 26,
      "outputs": [
        {
          "output_type": "stream",
          "name": "stdout",
          "text": [
            "+------+-----------+------------+-----------------+----------------+-----------+------------+-----------------+----------------+\n",
            "|county|total_cases|total_deaths|number_of_records|number_of_states|total_cases|total_deaths|number_of_records|number_of_states|\n",
            "+------+-----------+------------+-----------------+----------------+-----------+------------+-----------------+----------------+\n",
            "+------+-----------+------------+-----------------+----------------+-----------+------------+-----------------+----------------+\n",
            "\n"
          ]
        }
      ]
    },
    {
      "cell_type": "code",
      "source": [
        "# right join\n",
        "right_table_joined = left_table.join(\n",
        "    right_table,\n",
        "    on=[\"county\"],\n",
        "    how=\"right\"\n",
        ")\n",
        "\n",
        "right_table_joined.show(100, False)"
      ],
      "metadata": {
        "colab": {
          "base_uri": "https://localhost:8080/"
        },
        "id": "zD8yKJRCvK0K",
        "outputId": "8de7e389-7c8b-41a3-a867-acb0a93174a4"
      },
      "execution_count": 27,
      "outputs": [
        {
          "output_type": "stream",
          "name": "stdout",
          "text": [
            "+------+-----------+------------+-----------------+----------------+-----------+------------+-----------------+----------------+\n",
            "|county|total_cases|total_deaths|number_of_records|number_of_states|total_cases|total_deaths|number_of_records|number_of_states|\n",
            "+------+-----------+------------+-----------------+----------------+-----------+------------+-----------------+----------------+\n",
            "+------+-----------+------------+-----------------+----------------+-----------+------------+-----------------+----------------+\n",
            "\n"
          ]
        }
      ]
    },
    {
      "cell_type": "code",
      "source": [
        "# outer join\n",
        "outer_table_joined = left_table.join(\n",
        "    right_table,\n",
        "    on=[\"county\"],\n",
        "    how=\"outer\"\n",
        ")\n",
        "\n",
        "outer_table_joined.show(100, False)"
      ],
      "metadata": {
        "colab": {
          "base_uri": "https://localhost:8080/"
        },
        "id": "K8Ex8SPzvZOp",
        "outputId": "c30df2df-8987-41a0-e196-c0ab5ec6dab7"
      },
      "execution_count": 28,
      "outputs": [
        {
          "output_type": "stream",
          "name": "stdout",
          "text": [
            "+------+-----------+------------+-----------------+----------------+-----------+------------+-----------------+----------------+\n",
            "|county|total_cases|total_deaths|number_of_records|number_of_states|total_cases|total_deaths|number_of_records|number_of_states|\n",
            "+------+-----------+------------+-----------------+----------------+-----------+------------+-----------------+----------------+\n",
            "+------+-----------+------------+-----------------+----------------+-----------+------------+-----------------+----------------+\n",
            "\n"
          ]
        }
      ]
    },
    {
      "cell_type": "code",
      "source": [
        "# get percentage of cases for each state in Adair\n",
        "# filter data for county - Adair\n",
        "adair_overall = county_summary.where(\n",
        "    \"county in ('Adair')\"\n",
        ")\n",
        "\n",
        "adair_overall.show(5, False)"
      ],
      "metadata": {
        "colab": {
          "base_uri": "https://localhost:8080/"
        },
        "id": "1xZSH3uVzsdc",
        "outputId": "fdf4d4ff-0daf-4130-a6e6-e69d49920e72"
      },
      "execution_count": 29,
      "outputs": [
        {
          "output_type": "stream",
          "name": "stdout",
          "text": [
            "+------+-----------+------------+-----------------+----------------+\n",
            "|county|total_cases|total_deaths|number_of_records|number_of_states|\n",
            "+------+-----------+------------+-----------------+----------------+\n",
            "+------+-----------+------------+-----------------+----------------+\n",
            "\n"
          ]
        }
      ]
    },
    {
      "cell_type": "code",
      "source": [
        "perc_cases_statewise = df_filtered.join(\n",
        "    adair_overall,\n",
        "    on=\"county\",\n",
        "    how=\"inner\"\n",
        ")\n",
        "\n",
        "perc_cases_statewise.show(10, False)"
      ],
      "metadata": {
        "colab": {
          "base_uri": "https://localhost:8080/"
        },
        "id": "kk9b9MWu0GU6",
        "outputId": "e59a5eff-b7c0-4fa8-9b2a-02830f84a5bb"
      },
      "execution_count": 30,
      "outputs": [
        {
          "output_type": "stream",
          "name": "stdout",
          "text": [
            "+------+----+-----+----+-----+------+-----------+------------+-----------------+----------------+\n",
            "|county|date|state|fips|cases|deaths|total_cases|total_deaths|number_of_records|number_of_states|\n",
            "+------+----+-----+----+-----+------+-----------+------------+-----------------+----------------+\n",
            "+------+----+-----+----+-----+------+-----------+------------+-----------------+----------------+\n",
            "\n"
          ]
        }
      ]
    },
    {
      "cell_type": "code",
      "source": [
        "# calculate percentage\n",
        "# withColum is used to create new column \n",
        "perc_cases_statewise = perc_cases_statewise.withColumn(\n",
        "    \"perc_cases\",\n",
        "    F.col(\"cases\")/F.col(\"total_cases\")\n",
        ").withColumn(\n",
        "    \"perc_deaths\",\n",
        "    F.col(\"deaths\")/F.col(\"total_deaths\")\n",
        ")\n",
        "\n",
        "perc_cases_statewise.show(10, False)"
      ],
      "metadata": {
        "colab": {
          "base_uri": "https://localhost:8080/"
        },
        "id": "xMXaqJWE0gpy",
        "outputId": "0c19706e-ce68-4909-8365-c0865e61f0dc"
      },
      "execution_count": 31,
      "outputs": [
        {
          "output_type": "stream",
          "name": "stdout",
          "text": [
            "+------+----+-----+----+-----+------+-----------+------------+-----------------+----------------+----------+-----------+\n",
            "|county|date|state|fips|cases|deaths|total_cases|total_deaths|number_of_records|number_of_states|perc_cases|perc_deaths|\n",
            "+------+----+-----+----+-----+------+-----------+------------+-----------------+----------------+----------+-----------+\n",
            "+------+----+-----+----+-----+------+-----------+------------+-----------------+----------------+----------+-----------+\n",
            "\n"
          ]
        }
      ]
    },
    {
      "cell_type": "code",
      "source": [
        "# using window functions\n",
        "from pyspark.sql.window import Window"
      ],
      "metadata": {
        "id": "SOF3psbcEjHz"
      },
      "execution_count": 32,
      "outputs": []
    },
    {
      "cell_type": "code",
      "source": [
        "county_summary.show(5, False)"
      ],
      "metadata": {
        "colab": {
          "base_uri": "https://localhost:8080/"
        },
        "id": "s2h1cK-FEtpo",
        "outputId": "dd7dc58e-9c47-44d9-a051-eea20461bfc7"
      },
      "execution_count": 33,
      "outputs": [
        {
          "output_type": "stream",
          "name": "stdout",
          "text": [
            "+-------+-----------+------------+-----------------+----------------+\n",
            "|county |total_cases|total_deaths|number_of_records|number_of_states|\n",
            "+-------+-----------+------------+-----------------+----------------+\n",
            "|Izard  |20.0       |1.0         |1                |1               |\n",
            "|Scott  |8.0        |0.0         |1                |1               |\n",
            "|Baldwin|450.0      |9.0         |1                |1               |\n",
            "|Monroe |177.0      |2.0         |2                |2               |\n",
            "|Graham |66.0       |2.0         |1                |1               |\n",
            "+-------+-----------+------------+-----------------+----------------+\n",
            "only showing top 5 rows\n",
            "\n"
          ]
        }
      ]
    },
    {
      "cell_type": "code",
      "source": [
        "county_summary_ranked = county_summary.withColumn(\n",
        "    \"rank\",\n",
        "    F.rank().over(Window.orderBy(\"total_cases\"))\n",
        ")\n",
        "\n",
        "county_summary_ranked.show(5, False)"
      ],
      "metadata": {
        "colab": {
          "base_uri": "https://localhost:8080/"
        },
        "id": "MDlbVSKYExzU",
        "outputId": "b3f46cf3-72fa-4ebf-89b2-aed616cf255a"
      },
      "execution_count": 34,
      "outputs": [
        {
          "output_type": "stream",
          "name": "stdout",
          "text": [
            "+---------------------------------+-----------+------------+-----------------+----------------+----+\n",
            "|county                           |total_cases|total_deaths|number_of_records|number_of_states|rank|\n",
            "+---------------------------------+-----------+------------+-----------------+----------------+----+\n",
            "|Aleutians East Borough           |2.0        |0.0         |1                |1               |1   |\n",
            "|Yukon-Koyukuk Census Area        |2.0        |0.0         |1                |1               |1   |\n",
            "|Prince of Wales-Hyder Census Area|3.0        |0.0         |1                |1               |3   |\n",
            "|Northwest Arctic Borough         |4.0        |0.0         |1                |1               |4   |\n",
            "|Newton                           |4.0        |0.0         |1                |1               |4   |\n",
            "+---------------------------------+-----------+------------+-----------------+----------------+----+\n",
            "only showing top 5 rows\n",
            "\n"
          ]
        }
      ]
    },
    {
      "cell_type": "code",
      "source": [
        "county_summary_ranked = county_summary_ranked.withColumn(\n",
        "    \"rank_desc\",\n",
        "    F.rank().over(Window.orderBy(F.desc(\"total_cases\")))\n",
        ")\n",
        "\n",
        "county_summary_ranked.orderBy(\"total_cases\", ascending=False).show(5, False)"
      ],
      "metadata": {
        "colab": {
          "base_uri": "https://localhost:8080/"
        },
        "id": "TIejUH7GF6bR",
        "outputId": "5ebac644-8894-482a-d44b-e4fa6af5d8ff"
      },
      "execution_count": 35,
      "outputs": [
        {
          "output_type": "stream",
          "name": "stdout",
          "text": [
            "+----------+-----------+------------+-----------------+----------------+----+---------+\n",
            "|county    |total_cases|total_deaths|number_of_records|number_of_states|rank|rank_desc|\n",
            "+----------+-----------+------------+-----------------+----------------+----+---------+\n",
            "|Maricopa  |33883.0    |663.0       |1                |1               |155 |1        |\n",
            "|Pima      |6089.0     |247.0       |1                |1               |154 |2        |\n",
            "|Yuma      |4940.0     |69.0        |1                |1               |153 |3        |\n",
            "|Jefferson |3801.0     |155.0       |2                |2               |152 |4        |\n",
            "|Montgomery|3353.0     |87.0        |2                |2               |151 |5        |\n",
            "+----------+-----------+------------+-----------------+----------------+----+---------+\n",
            "only showing top 5 rows\n",
            "\n"
          ]
        }
      ]
    },
    {
      "cell_type": "code",
      "source": [
        "df_filtered.show(5, False)"
      ],
      "metadata": {
        "colab": {
          "base_uri": "https://localhost:8080/"
        },
        "id": "OTjyL1xDKbki",
        "outputId": "091d234d-3794-4fee-9623-704ab2520bff"
      },
      "execution_count": 36,
      "outputs": [
        {
          "output_type": "stream",
          "name": "stdout",
          "text": [
            "+----------+-------+-------+-----+-----+------+\n",
            "|date      |county |state  |fips |cases|deaths|\n",
            "+----------+-------+-------+-----+-----+------+\n",
            "|2020-06-23|Autauga|Alabama|01001|453  |9     |\n",
            "|2020-06-23|Baldwin|Alabama|01003|450  |9     |\n",
            "|2020-06-23|Barbour|Alabama|01005|280  |1     |\n",
            "|2020-06-23|Bibb   |Alabama|01007|135  |1     |\n",
            "|2020-06-23|Blount |Alabama|01009|159  |1     |\n",
            "+----------+-------+-------+-----+-----+------+\n",
            "only showing top 5 rows\n",
            "\n"
          ]
        }
      ]
    },
    {
      "cell_type": "code",
      "source": [
        "df_filtered.count()"
      ],
      "metadata": {
        "colab": {
          "base_uri": "https://localhost:8080/"
        },
        "id": "Kz6U3-VIKe3o",
        "outputId": "153177be-4414-4f33-9b00-40c98cb0a1c1"
      },
      "execution_count": 37,
      "outputs": [
        {
          "output_type": "execute_result",
          "data": {
            "text/plain": [
              "171"
            ]
          },
          "metadata": {},
          "execution_count": 37
        }
      ]
    },
    {
      "cell_type": "code",
      "source": [
        "ranked_states = df_filtered.withColumn(\n",
        "    \"state_rank\",\n",
        "    F.rank().over(Window.partitionBy(\"county\").orderBy(F.desc(\"cases\")))\n",
        ")\n",
        "\n",
        "ranked_states.orderBy(\"county\", \"state_rank\").show(30, False)"
      ],
      "metadata": {
        "colab": {
          "base_uri": "https://localhost:8080/"
        },
        "id": "yfa9i7q0KisY",
        "outputId": "cab0478b-51db-4aa3-c3f8-ce86e8a64695"
      },
      "execution_count": 38,
      "outputs": [
        {
          "output_type": "stream",
          "name": "stdout",
          "text": [
            "+----------+-----------------------------------+--------+-----+-----+------+----------+\n",
            "|date      |county                             |state   |fips |cases|deaths|state_rank|\n",
            "+----------+-----------------------------------+--------+-----+-----+------+----------+\n",
            "|2020-06-23|Aleutians East Borough             |Alaska  |02013|2    |0     |1         |\n",
            "|2020-06-23|Aleutians West Census Area         |Alaska  |02016|4    |0     |1         |\n",
            "|2020-06-23|Anchorage                          |Alaska  |02020|401  |6     |1         |\n",
            "|2020-06-23|Apache                             |Arizona |04001|2165 |67    |1         |\n",
            "|2020-06-23|Arkansas                           |Arkansas|05001|21   |0     |1         |\n",
            "|2020-06-23|Ashley                             |Arkansas|05003|57   |1     |1         |\n",
            "|2020-06-23|Autauga                            |Alabama |01001|453  |9     |1         |\n",
            "|2020-06-23|Baldwin                            |Alabama |01003|450  |9     |1         |\n",
            "|2020-06-23|Barbour                            |Alabama |01005|280  |1     |1         |\n",
            "|2020-06-23|Baxter                             |Arkansas|05005|15   |0     |1         |\n",
            "|2020-06-23|Benton                             |Arkansas|05007|2128 |14    |1         |\n",
            "|2020-06-23|Bethel Census Area                 |Alaska  |02050|8    |0     |1         |\n",
            "|2020-06-23|Bibb                               |Alabama |01007|135  |1     |1         |\n",
            "|2020-06-23|Blount                             |Alabama |01009|159  |1     |1         |\n",
            "|2020-06-23|Boone                              |Arkansas|05009|14   |1     |1         |\n",
            "|2020-06-23|Bradley                            |Arkansas|05011|38   |2     |1         |\n",
            "|2020-06-23|Bristol Bay plus Lake and Peninsula|Alaska  |02997|16   |0     |1         |\n",
            "|2020-06-23|Bullock                            |Alabama |01011|329  |10    |1         |\n",
            "|2020-06-23|Butler                             |Alabama |01013|581  |27    |1         |\n",
            "|2020-06-23|Calhoun                            |Alabama |01015|216  |5     |1         |\n",
            "|2020-06-23|Carroll                            |Arkansas|05015|136  |4     |1         |\n",
            "|2020-06-23|Chambers                           |Alabama |01017|534  |27    |1         |\n",
            "|2020-06-23|Cherokee                           |Alabama |01019|58   |7     |1         |\n",
            "|2020-06-23|Chicot                             |Arkansas|05017|93   |2     |1         |\n",
            "|2020-06-23|Chilton                            |Alabama |01021|176  |3     |1         |\n",
            "|2020-06-23|Choctaw                            |Alabama |01023|186  |12    |1         |\n",
            "|2020-06-23|Clark                              |Arkansas|05019|53   |0     |1         |\n",
            "|2020-06-23|Clarke                             |Alabama |01025|222  |4     |1         |\n",
            "|2020-06-23|Clay                               |Arkansas|05021|48   |3     |1         |\n",
            "|2020-06-23|Clay                               |Alabama |01027|34   |2     |2         |\n",
            "+----------+-----------------------------------+--------+-----+-----+------+----------+\n",
            "only showing top 30 rows\n",
            "\n"
          ]
        }
      ]
    },
    {
      "cell_type": "code",
      "source": [
        "ranked_states.count()"
      ],
      "metadata": {
        "colab": {
          "base_uri": "https://localhost:8080/"
        },
        "id": "VCNrSmQ-cHP2",
        "outputId": "a1c973a6-5b04-43e9-ce74-49bb685cbda0"
      },
      "execution_count": 39,
      "outputs": [
        {
          "output_type": "execute_result",
          "data": {
            "text/plain": [
              "171"
            ]
          },
          "metadata": {},
          "execution_count": 39
        }
      ]
    },
    {
      "cell_type": "code",
      "source": [
        "ranked_states_filtered = ranked_states.filter(\n",
        "    \"state_rank = 1\"\n",
        ")\n",
        "\n",
        "ranked_states_filtered.count()"
      ],
      "metadata": {
        "colab": {
          "base_uri": "https://localhost:8080/"
        },
        "id": "7bGJFPWccJm5",
        "outputId": "867635ef-eaf5-4c5c-d6b9-363150beda93"
      },
      "execution_count": 40,
      "outputs": [
        {
          "output_type": "execute_result",
          "data": {
            "text/plain": [
              "155"
            ]
          },
          "metadata": {},
          "execution_count": 40
        }
      ]
    },
    {
      "cell_type": "code",
      "source": [
        "ranked_states_filtered.orderBy(\"county\", \"state_rank\").show(50, False)"
      ],
      "metadata": {
        "colab": {
          "base_uri": "https://localhost:8080/"
        },
        "id": "9g4Kecg-cYtD",
        "outputId": "da9c996e-d021-47a3-9243-1fd4b2641aaa"
      },
      "execution_count": 41,
      "outputs": [
        {
          "output_type": "stream",
          "name": "stdout",
          "text": [
            "+----------+-----------------------------------+--------+-----+-----+------+----------+\n",
            "|date      |county                             |state   |fips |cases|deaths|state_rank|\n",
            "+----------+-----------------------------------+--------+-----+-----+------+----------+\n",
            "|2020-06-23|Aleutians East Borough             |Alaska  |02013|2    |0     |1         |\n",
            "|2020-06-23|Aleutians West Census Area         |Alaska  |02016|4    |0     |1         |\n",
            "|2020-06-23|Anchorage                          |Alaska  |02020|401  |6     |1         |\n",
            "|2020-06-23|Apache                             |Arizona |04001|2165 |67    |1         |\n",
            "|2020-06-23|Arkansas                           |Arkansas|05001|21   |0     |1         |\n",
            "|2020-06-23|Ashley                             |Arkansas|05003|57   |1     |1         |\n",
            "|2020-06-23|Autauga                            |Alabama |01001|453  |9     |1         |\n",
            "|2020-06-23|Baldwin                            |Alabama |01003|450  |9     |1         |\n",
            "|2020-06-23|Barbour                            |Alabama |01005|280  |1     |1         |\n",
            "|2020-06-23|Baxter                             |Arkansas|05005|15   |0     |1         |\n",
            "|2020-06-23|Benton                             |Arkansas|05007|2128 |14    |1         |\n",
            "|2020-06-23|Bethel Census Area                 |Alaska  |02050|8    |0     |1         |\n",
            "|2020-06-23|Bibb                               |Alabama |01007|135  |1     |1         |\n",
            "|2020-06-23|Blount                             |Alabama |01009|159  |1     |1         |\n",
            "|2020-06-23|Boone                              |Arkansas|05009|14   |1     |1         |\n",
            "|2020-06-23|Bradley                            |Arkansas|05011|38   |2     |1         |\n",
            "|2020-06-23|Bristol Bay plus Lake and Peninsula|Alaska  |02997|16   |0     |1         |\n",
            "|2020-06-23|Bullock                            |Alabama |01011|329  |10    |1         |\n",
            "|2020-06-23|Butler                             |Alabama |01013|581  |27    |1         |\n",
            "|2020-06-23|Calhoun                            |Alabama |01015|216  |5     |1         |\n",
            "|2020-06-23|Carroll                            |Arkansas|05015|136  |4     |1         |\n",
            "|2020-06-23|Chambers                           |Alabama |01017|534  |27    |1         |\n",
            "|2020-06-23|Cherokee                           |Alabama |01019|58   |7     |1         |\n",
            "|2020-06-23|Chicot                             |Arkansas|05017|93   |2     |1         |\n",
            "|2020-06-23|Chilton                            |Alabama |01021|176  |3     |1         |\n",
            "|2020-06-23|Choctaw                            |Alabama |01023|186  |12    |1         |\n",
            "|2020-06-23|Clark                              |Arkansas|05019|53   |0     |1         |\n",
            "|2020-06-23|Clarke                             |Alabama |01025|222  |4     |1         |\n",
            "|2020-06-23|Clay                               |Arkansas|05021|48   |3     |1         |\n",
            "|2020-06-23|Cleburne                           |Arkansas|05023|77   |4     |1         |\n",
            "|2020-06-23|Cleveland                          |Arkansas|05025|25   |0     |1         |\n",
            "|2020-06-23|Cochise                            |Arizona |04003|432  |6     |1         |\n",
            "|2020-06-23|Coconino                           |Arizona |04005|1595 |90    |1         |\n",
            "|2020-06-23|Coffee                             |Alabama |01031|319  |1     |1         |\n",
            "|2020-06-23|Colbert                            |Alabama |01033|310  |5     |1         |\n",
            "|2020-06-23|Columbia                           |Arkansas|05027|44   |3     |1         |\n",
            "|2020-06-23|Conecuh                            |Alabama |01035|146  |1     |1         |\n",
            "|2020-06-23|Conway                             |Arkansas|05029|36   |3     |1         |\n",
            "|2020-06-23|Coosa                              |Alabama |01037|52   |1     |1         |\n",
            "|2020-06-23|Covington                          |Alabama |01039|243  |2     |1         |\n",
            "|2020-06-23|Craighead                          |Arkansas|05031|404  |6     |1         |\n",
            "|2020-06-23|Crawford                           |Arkansas|05033|105  |0     |1         |\n",
            "|2020-06-23|Crenshaw                           |Alabama |01041|120  |3     |1         |\n",
            "|2020-06-23|Crittenden                         |Arkansas|05035|604  |10    |1         |\n",
            "|2020-06-23|Cross                              |Arkansas|05037|83   |1     |1         |\n",
            "|2020-06-23|Cullman                            |Alabama |01043|320  |3     |1         |\n",
            "|2020-06-23|Dale                               |Alabama |01045|209  |0     |1         |\n",
            "|2020-06-23|Dallas                             |Alabama |01047|666  |6     |1         |\n",
            "|2020-06-23|DeKalb                             |Alabama |01049|431  |5     |1         |\n",
            "|2020-06-23|Desha                              |Arkansas|05041|29   |0     |1         |\n",
            "+----------+-----------------------------------+--------+-----+-----+------+----------+\n",
            "only showing top 50 rows\n",
            "\n"
          ]
        }
      ]
    },
    {
      "cell_type": "code",
      "source": [
        "ranked_states = ranked_states.withColumn(\n",
        "    \"country_total_cases\",\n",
        "    F.sum(\"cases\").over(Window.partitionBy(\"county\"))\n",
        ").withColumn(\n",
        "    \"perc_total_cases\",\n",
        "    F.col(\"cases\")/F.col(\"country_total_cases\")\n",
        ").withColumn(\n",
        "    \"country_avg_cases\",\n",
        "    F.avg(\"cases\").over(Window.partitionBy(\"county\"))\n",
        ").withColumn(\n",
        "    \"country_max_cases\",\n",
        "    F.max(\"cases\").over(Window.partitionBy(\"county\"))\n",
        ")\n",
        "\n",
        "ranked_states.orderBy(\"county\", \"perc_total_cases\").show(50, False)"
      ],
      "metadata": {
        "colab": {
          "base_uri": "https://localhost:8080/"
        },
        "id": "ZSv9wCnndups",
        "outputId": "48f0172c-59fa-465e-e862-cff9a14ecd58"
      },
      "execution_count": 46,
      "outputs": [
        {
          "output_type": "stream",
          "name": "stdout",
          "text": [
            "+----------+-----------------------------------+--------+-----+-----+------+----------+-------------------+--------------------+-----------------+-----------------+\n",
            "|date      |county                             |state   |fips |cases|deaths|state_rank|country_total_cases|perc_total_cases    |country_avg_cases|country_max_cases|\n",
            "+----------+-----------------------------------+--------+-----+-----+------+----------+-------------------+--------------------+-----------------+-----------------+\n",
            "|2020-06-23|Aleutians East Borough             |Alaska  |02013|2    |0     |1         |2.0                |1.0                 |2.0              |2                |\n",
            "|2020-06-23|Aleutians West Census Area         |Alaska  |02016|4    |0     |1         |4.0                |1.0                 |4.0              |4                |\n",
            "|2020-06-23|Anchorage                          |Alaska  |02020|401  |6     |1         |401.0              |1.0                 |401.0            |401              |\n",
            "|2020-06-23|Apache                             |Arizona |04001|2165 |67    |1         |2165.0             |1.0                 |2165.0           |2165             |\n",
            "|2020-06-23|Arkansas                           |Arkansas|05001|21   |0     |1         |21.0               |1.0                 |21.0             |21               |\n",
            "|2020-06-23|Ashley                             |Arkansas|05003|57   |1     |1         |57.0               |1.0                 |57.0             |57               |\n",
            "|2020-06-23|Autauga                            |Alabama |01001|453  |9     |1         |453.0              |1.0                 |453.0            |453              |\n",
            "|2020-06-23|Baldwin                            |Alabama |01003|450  |9     |1         |450.0              |1.0                 |450.0            |450              |\n",
            "|2020-06-23|Barbour                            |Alabama |01005|280  |1     |1         |280.0              |1.0                 |280.0            |280              |\n",
            "|2020-06-23|Baxter                             |Arkansas|05005|15   |0     |1         |15.0               |1.0                 |15.0             |15               |\n",
            "|2020-06-23|Benton                             |Arkansas|05007|2128 |14    |1         |2128.0             |1.0                 |2128.0           |2128             |\n",
            "|2020-06-23|Bethel Census Area                 |Alaska  |02050|8    |0     |1         |8.0                |1.0                 |8.0              |8                |\n",
            "|2020-06-23|Bibb                               |Alabama |01007|135  |1     |1         |135.0              |1.0                 |135.0            |135              |\n",
            "|2020-06-23|Blount                             |Alabama |01009|159  |1     |1         |159.0              |1.0                 |159.0            |159              |\n",
            "|2020-06-23|Boone                              |Arkansas|05009|14   |1     |1         |14.0               |1.0                 |14.0             |14               |\n",
            "|2020-06-23|Bradley                            |Arkansas|05011|38   |2     |1         |38.0               |1.0                 |38.0             |38               |\n",
            "|2020-06-23|Bristol Bay plus Lake and Peninsula|Alaska  |02997|16   |0     |1         |16.0               |1.0                 |16.0             |16               |\n",
            "|2020-06-23|Bullock                            |Alabama |01011|329  |10    |1         |329.0              |1.0                 |329.0            |329              |\n",
            "|2020-06-23|Butler                             |Alabama |01013|581  |27    |1         |581.0              |1.0                 |581.0            |581              |\n",
            "|2020-06-23|Calhoun                            |Alabama |01015|216  |5     |1         |216.0              |1.0                 |216.0            |216              |\n",
            "|2020-06-23|Carroll                            |Arkansas|05015|136  |4     |1         |136.0              |1.0                 |136.0            |136              |\n",
            "|2020-06-23|Chambers                           |Alabama |01017|534  |27    |1         |534.0              |1.0                 |534.0            |534              |\n",
            "|2020-06-23|Cherokee                           |Alabama |01019|58   |7     |1         |58.0               |1.0                 |58.0             |58               |\n",
            "|2020-06-23|Chicot                             |Arkansas|05017|93   |2     |1         |93.0               |1.0                 |93.0             |93               |\n",
            "|2020-06-23|Chilton                            |Alabama |01021|176  |3     |1         |176.0              |1.0                 |176.0            |176              |\n",
            "|2020-06-23|Choctaw                            |Alabama |01023|186  |12    |1         |186.0              |1.0                 |186.0            |186              |\n",
            "|2020-06-23|Clark                              |Arkansas|05019|53   |0     |1         |53.0               |1.0                 |53.0             |53               |\n",
            "|2020-06-23|Clarke                             |Alabama |01025|222  |4     |1         |222.0              |1.0                 |222.0            |222              |\n",
            "|2020-06-23|Clay                               |Alabama |01027|34   |2     |2         |82.0               |0.4146341463414634  |41.0             |48               |\n",
            "|2020-06-23|Clay                               |Arkansas|05021|48   |3     |1         |82.0               |0.5853658536585366  |41.0             |48               |\n",
            "|2020-06-23|Cleburne                           |Alabama |01029|23   |1     |2         |100.0              |0.23                |50.0             |77               |\n",
            "|2020-06-23|Cleburne                           |Arkansas|05023|77   |4     |1         |100.0              |0.77                |50.0             |77               |\n",
            "|2020-06-23|Cleveland                          |Arkansas|05025|25   |0     |1         |25.0               |1.0                 |25.0             |25               |\n",
            "|2020-06-23|Cochise                            |Arizona |04003|432  |6     |1         |432.0              |1.0                 |432.0            |432              |\n",
            "|2020-06-23|Coconino                           |Arizona |04005|1595 |90    |1         |1595.0             |1.0                 |1595.0           |1595             |\n",
            "|2020-06-23|Coffee                             |Alabama |01031|319  |1     |1         |319.0              |1.0                 |319.0            |319              |\n",
            "|2020-06-23|Colbert                            |Alabama |01033|310  |5     |1         |310.0              |1.0                 |310.0            |310              |\n",
            "|2020-06-23|Columbia                           |Arkansas|05027|44   |3     |1         |44.0               |1.0                 |44.0             |44               |\n",
            "|2020-06-23|Conecuh                            |Alabama |01035|146  |1     |1         |146.0              |1.0                 |146.0            |146              |\n",
            "|2020-06-23|Conway                             |Arkansas|05029|36   |3     |1         |36.0               |1.0                 |36.0             |36               |\n",
            "|2020-06-23|Coosa                              |Alabama |01037|52   |1     |1         |52.0               |1.0                 |52.0             |52               |\n",
            "|2020-06-23|Covington                          |Alabama |01039|243  |2     |1         |243.0              |1.0                 |243.0            |243              |\n",
            "|2020-06-23|Craighead                          |Arkansas|05031|404  |6     |1         |404.0              |1.0                 |404.0            |404              |\n",
            "|2020-06-23|Crawford                           |Arkansas|05033|105  |0     |1         |105.0              |1.0                 |105.0            |105              |\n",
            "|2020-06-23|Crenshaw                           |Alabama |01041|120  |3     |1         |120.0              |1.0                 |120.0            |120              |\n",
            "|2020-06-23|Crittenden                         |Arkansas|05035|604  |10    |1         |604.0              |1.0                 |604.0            |604              |\n",
            "|2020-06-23|Cross                              |Arkansas|05037|83   |1     |1         |83.0               |1.0                 |83.0             |83               |\n",
            "|2020-06-23|Cullman                            |Alabama |01043|320  |3     |1         |320.0              |1.0                 |320.0            |320              |\n",
            "|2020-06-23|Dale                               |Alabama |01045|209  |0     |1         |209.0              |1.0                 |209.0            |209              |\n",
            "|2020-06-23|Dallas                             |Arkansas|05039|6    |0     |2         |672.0              |0.008928571428571428|336.0            |666              |\n",
            "+----------+-----------------------------------+--------+-----+-----+------+----------+-------------------+--------------------+-----------------+-----------------+\n",
            "only showing top 50 rows\n",
            "\n"
          ]
        }
      ]
    },
    {
      "cell_type": "code",
      "source": [
        "ranked_states.registerTempTable(\"ranked_states\")"
      ],
      "metadata": {
        "colab": {
          "base_uri": "https://localhost:8080/"
        },
        "id": "GoxVw_1Ojt2j",
        "outputId": "f0ce7c7b-8ebe-4ead-db84-06083cfe0a56"
      },
      "execution_count": 47,
      "outputs": [
        {
          "output_type": "stream",
          "name": "stderr",
          "text": [
            "/usr/local/lib/python3.7/dist-packages/pyspark/sql/dataframe.py:229: FutureWarning: Deprecated in 2.0, use createOrReplaceTempView instead.\n",
            "  warnings.warn(\"Deprecated in 2.0, use createOrReplaceTempView instead.\", FutureWarning)\n"
          ]
        }
      ]
    },
    {
      "cell_type": "code",
      "source": [
        "ranked_states_sql = sqlContext.sql(\"\"\"\n",
        "    SELECT\n",
        "        *,\n",
        "        MIN(cases) OVER (PARTITION BY county) as country_min_cases\n",
        "    FROM\n",
        "        ranked_states\n",
        "\"\"\")\n",
        "\n",
        "ranked_states_sql = ranked_states_sql.drop('country_total_cases')\n",
        "\n",
        "ranked_states_sql.orderBy(\"county\", \"perc_total_cases\").show(50, False)"
      ],
      "metadata": {
        "colab": {
          "base_uri": "https://localhost:8080/"
        },
        "id": "s4zhAYVVj1Tl",
        "outputId": "deee2562-4492-4d42-a531-0e15e82b2b82"
      },
      "execution_count": 50,
      "outputs": [
        {
          "output_type": "stream",
          "name": "stdout",
          "text": [
            "+----------+-----------------------------------+--------+-----+-----+------+----------+--------------------+-----------------+-----------------+-----------------+\n",
            "|date      |county                             |state   |fips |cases|deaths|state_rank|perc_total_cases    |country_avg_cases|country_max_cases|country_min_cases|\n",
            "+----------+-----------------------------------+--------+-----+-----+------+----------+--------------------+-----------------+-----------------+-----------------+\n",
            "|2020-06-23|Aleutians East Borough             |Alaska  |02013|2    |0     |1         |1.0                 |2.0              |2                |2                |\n",
            "|2020-06-23|Aleutians West Census Area         |Alaska  |02016|4    |0     |1         |1.0                 |4.0              |4                |4                |\n",
            "|2020-06-23|Anchorage                          |Alaska  |02020|401  |6     |1         |1.0                 |401.0            |401              |401              |\n",
            "|2020-06-23|Apache                             |Arizona |04001|2165 |67    |1         |1.0                 |2165.0           |2165             |2165             |\n",
            "|2020-06-23|Arkansas                           |Arkansas|05001|21   |0     |1         |1.0                 |21.0             |21               |21               |\n",
            "|2020-06-23|Ashley                             |Arkansas|05003|57   |1     |1         |1.0                 |57.0             |57               |57               |\n",
            "|2020-06-23|Autauga                            |Alabama |01001|453  |9     |1         |1.0                 |453.0            |453              |453              |\n",
            "|2020-06-23|Baldwin                            |Alabama |01003|450  |9     |1         |1.0                 |450.0            |450              |450              |\n",
            "|2020-06-23|Barbour                            |Alabama |01005|280  |1     |1         |1.0                 |280.0            |280              |280              |\n",
            "|2020-06-23|Baxter                             |Arkansas|05005|15   |0     |1         |1.0                 |15.0             |15               |15               |\n",
            "|2020-06-23|Benton                             |Arkansas|05007|2128 |14    |1         |1.0                 |2128.0           |2128             |2128             |\n",
            "|2020-06-23|Bethel Census Area                 |Alaska  |02050|8    |0     |1         |1.0                 |8.0              |8                |8                |\n",
            "|2020-06-23|Bibb                               |Alabama |01007|135  |1     |1         |1.0                 |135.0            |135              |135              |\n",
            "|2020-06-23|Blount                             |Alabama |01009|159  |1     |1         |1.0                 |159.0            |159              |159              |\n",
            "|2020-06-23|Boone                              |Arkansas|05009|14   |1     |1         |1.0                 |14.0             |14               |14               |\n",
            "|2020-06-23|Bradley                            |Arkansas|05011|38   |2     |1         |1.0                 |38.0             |38               |38               |\n",
            "|2020-06-23|Bristol Bay plus Lake and Peninsula|Alaska  |02997|16   |0     |1         |1.0                 |16.0             |16               |16               |\n",
            "|2020-06-23|Bullock                            |Alabama |01011|329  |10    |1         |1.0                 |329.0            |329              |329              |\n",
            "|2020-06-23|Butler                             |Alabama |01013|581  |27    |1         |1.0                 |581.0            |581              |581              |\n",
            "|2020-06-23|Calhoun                            |Alabama |01015|216  |5     |1         |1.0                 |216.0            |216              |216              |\n",
            "|2020-06-23|Carroll                            |Arkansas|05015|136  |4     |1         |1.0                 |136.0            |136              |136              |\n",
            "|2020-06-23|Chambers                           |Alabama |01017|534  |27    |1         |1.0                 |534.0            |534              |534              |\n",
            "|2020-06-23|Cherokee                           |Alabama |01019|58   |7     |1         |1.0                 |58.0             |58               |58               |\n",
            "|2020-06-23|Chicot                             |Arkansas|05017|93   |2     |1         |1.0                 |93.0             |93               |93               |\n",
            "|2020-06-23|Chilton                            |Alabama |01021|176  |3     |1         |1.0                 |176.0            |176              |176              |\n",
            "|2020-06-23|Choctaw                            |Alabama |01023|186  |12    |1         |1.0                 |186.0            |186              |186              |\n",
            "|2020-06-23|Clark                              |Arkansas|05019|53   |0     |1         |1.0                 |53.0             |53               |53               |\n",
            "|2020-06-23|Clarke                             |Alabama |01025|222  |4     |1         |1.0                 |222.0            |222              |222              |\n",
            "|2020-06-23|Clay                               |Alabama |01027|34   |2     |2         |0.4146341463414634  |41.0             |48               |34               |\n",
            "|2020-06-23|Clay                               |Arkansas|05021|48   |3     |1         |0.5853658536585366  |41.0             |48               |34               |\n",
            "|2020-06-23|Cleburne                           |Alabama |01029|23   |1     |2         |0.23                |50.0             |77               |23               |\n",
            "|2020-06-23|Cleburne                           |Arkansas|05023|77   |4     |1         |0.77                |50.0             |77               |23               |\n",
            "|2020-06-23|Cleveland                          |Arkansas|05025|25   |0     |1         |1.0                 |25.0             |25               |25               |\n",
            "|2020-06-23|Cochise                            |Arizona |04003|432  |6     |1         |1.0                 |432.0            |432              |432              |\n",
            "|2020-06-23|Coconino                           |Arizona |04005|1595 |90    |1         |1.0                 |1595.0           |1595             |1595             |\n",
            "|2020-06-23|Coffee                             |Alabama |01031|319  |1     |1         |1.0                 |319.0            |319              |319              |\n",
            "|2020-06-23|Colbert                            |Alabama |01033|310  |5     |1         |1.0                 |310.0            |310              |310              |\n",
            "|2020-06-23|Columbia                           |Arkansas|05027|44   |3     |1         |1.0                 |44.0             |44               |44               |\n",
            "|2020-06-23|Conecuh                            |Alabama |01035|146  |1     |1         |1.0                 |146.0            |146              |146              |\n",
            "|2020-06-23|Conway                             |Arkansas|05029|36   |3     |1         |1.0                 |36.0             |36               |36               |\n",
            "|2020-06-23|Coosa                              |Alabama |01037|52   |1     |1         |1.0                 |52.0             |52               |52               |\n",
            "|2020-06-23|Covington                          |Alabama |01039|243  |2     |1         |1.0                 |243.0            |243              |243              |\n",
            "|2020-06-23|Craighead                          |Arkansas|05031|404  |6     |1         |1.0                 |404.0            |404              |404              |\n",
            "|2020-06-23|Crawford                           |Arkansas|05033|105  |0     |1         |1.0                 |105.0            |105              |105              |\n",
            "|2020-06-23|Crenshaw                           |Alabama |01041|120  |3     |1         |1.0                 |120.0            |120              |120              |\n",
            "|2020-06-23|Crittenden                         |Arkansas|05035|604  |10    |1         |1.0                 |604.0            |604              |604              |\n",
            "|2020-06-23|Cross                              |Arkansas|05037|83   |1     |1         |1.0                 |83.0             |83               |83               |\n",
            "|2020-06-23|Cullman                            |Alabama |01043|320  |3     |1         |1.0                 |320.0            |320              |320              |\n",
            "|2020-06-23|Dale                               |Alabama |01045|209  |0     |1         |1.0                 |209.0            |209              |209              |\n",
            "|2020-06-23|Dallas                             |Arkansas|05039|6    |0     |2         |0.008928571428571428|336.0            |666              |6                |\n",
            "+----------+-----------------------------------+--------+-----+-----+------+----------+--------------------+-----------------+-----------------+-----------------+\n",
            "only showing top 50 rows\n",
            "\n"
          ]
        }
      ]
    }
  ]
}